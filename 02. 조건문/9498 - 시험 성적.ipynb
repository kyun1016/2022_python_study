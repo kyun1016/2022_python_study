{
 "cells": [
  {
   "cell_type": "code",
   "execution_count": 2,
   "metadata": {},
   "outputs": [
    {
     "name": "stdout",
     "output_type": "stream",
     "text": [
      "A\n"
     ]
    }
   ],
   "source": [
    "A = int(input())\n",
    "if A >= 90:\n",
    "    print(\"A\")\n",
    "elif A >= 80 :\n",
    "    print(\"B\")\n",
    "elif A >= 70:\n",
    "    print(\"C\")\n",
    "elif A >= 60:\n",
    "    print(\"D\")\n",
    "else:\n",
    "    print(\"F\")"
   ]
  }
 ],
 "metadata": {
  "kernelspec": {
   "display_name": "Python 3.10.7 64-bit",
   "language": "python",
   "name": "python3"
  },
  "language_info": {
   "codemirror_mode": {
    "name": "ipython",
    "version": 3
   },
   "file_extension": ".py",
   "mimetype": "text/x-python",
   "name": "python",
   "nbconvert_exporter": "python",
   "pygments_lexer": "ipython3",
   "version": "3.10.7"
  },
  "orig_nbformat": 4,
  "vscode": {
   "interpreter": {
    "hash": "d62492221e6953a5de9b87ae11772d4ebbe7fd120302dcff64a0b1507c366a10"
   }
  }
 },
 "nbformat": 4,
 "nbformat_minor": 2
}
