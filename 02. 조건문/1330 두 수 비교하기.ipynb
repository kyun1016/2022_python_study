{
 "cells": [
  {
   "cell_type": "code",
   "execution_count": 4,
   "metadata": {},
   "outputs": [
    {
     "name": "stdout",
     "output_type": "stream",
     "text": [
      ":\n"
     ]
    }
   ],
   "source": [
    "# A = list(map(int, input().split()))\n",
    "a, b = map(int, input().split())\n",
    "\n",
    "# a = int(input())\n",
    "# b = int(input())\n",
    "\n",
    "if(a>b):\n",
    "    print(\">\")\n",
    "elif(a<b):\n",
    "    print(\"<\")\n",
    "else:\n",
    "    print(\"==\")"
   ]
  }
 ],
 "metadata": {
  "kernelspec": {
   "display_name": "Python 3.10.7 64-bit",
   "language": "python",
   "name": "python3"
  },
  "language_info": {
   "codemirror_mode": {
    "name": "ipython",
    "version": 3
   },
   "file_extension": ".py",
   "mimetype": "text/x-python",
   "name": "python",
   "nbconvert_exporter": "python",
   "pygments_lexer": "ipython3",
   "version": "3.10.7"
  },
  "orig_nbformat": 4,
  "vscode": {
   "interpreter": {
    "hash": "d62492221e6953a5de9b87ae11772d4ebbe7fd120302dcff64a0b1507c366a10"
   }
  }
 },
 "nbformat": 4,
 "nbformat_minor": 2
}
