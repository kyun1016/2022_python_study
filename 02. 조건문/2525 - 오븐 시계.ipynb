{
 "cells": [
  {
   "cell_type": "code",
   "execution_count": 1,
   "metadata": {},
   "outputs": [
    {
     "ename": "TypeError",
     "evalue": "unsupported operand type(s) for +: 'int' and 'str'",
     "output_type": "error",
     "traceback": [
      "\u001b[1;31m---------------------------------------------------------------------------\u001b[0m",
      "\u001b[1;31mTypeError\u001b[0m                                 Traceback (most recent call last)",
      "Cell \u001b[1;32mIn [1], line 9\u001b[0m\n\u001b[0;32m      6\u001b[0m \u001b[39mif\u001b[39;00m(I_hour \u001b[39m>\u001b[39m \u001b[39m23\u001b[39m):\n\u001b[0;32m      7\u001b[0m     I_hour \u001b[39m-\u001b[39m\u001b[39m=\u001b[39m \u001b[39m24\u001b[39m\n\u001b[1;32m----> 9\u001b[0m \u001b[39mprint\u001b[39m(I_hour \u001b[39m+\u001b[39;49m \u001b[39m\"\u001b[39;49m\u001b[39m \u001b[39;49m\u001b[39m\"\u001b[39;49m \u001b[39m+\u001b[39m I_min)\n",
      "\u001b[1;31mTypeError\u001b[0m: unsupported operand type(s) for +: 'int' and 'str'"
     ]
    }
   ],
   "source": [
    "I_hour, I_min = map(int, input().split())\n",
    "I_cooking_time = int(input());\n",
    "\n",
    "if(I_min > 59):\n",
    "    I_hour += I_min//60\n",
    "if(I_hour > 23):\n",
    "    I_hour -= 24\n",
    "\n",
    "print(I_hour + \" \" + I_min)\n"
   ]
  }
 ],
 "metadata": {
  "kernelspec": {
   "display_name": "Python 3.10.7 64-bit",
   "language": "python",
   "name": "python3"
  },
  "language_info": {
   "codemirror_mode": {
    "name": "ipython",
    "version": 3
   },
   "file_extension": ".py",
   "mimetype": "text/x-python",
   "name": "python",
   "nbconvert_exporter": "python",
   "pygments_lexer": "ipython3",
   "version": "3.10.7"
  },
  "orig_nbformat": 4,
  "vscode": {
   "interpreter": {
    "hash": "d62492221e6953a5de9b87ae11772d4ebbe7fd120302dcff64a0b1507c366a10"
   }
  }
 },
 "nbformat": 4,
 "nbformat_minor": 2
}
