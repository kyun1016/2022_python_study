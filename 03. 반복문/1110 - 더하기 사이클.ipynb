{
 "cells": [
  {
   "cell_type": "code",
   "execution_count": 1,
   "metadata": {},
   "outputs": [
    {
     "name": "stdout",
     "output_type": "stream",
     "text": [
      "4\n"
     ]
    }
   ],
   "source": [
    "I_N = int(input())\n",
    "temp_NUM = (I_N%10)*10 + (I_N//10 + I_N%10)%10\n",
    "O_cycle_length = 1\n",
    "\n",
    "while True:\n",
    "    if temp_NUM == I_N:\n",
    "        break\n",
    "    O_cycle_length += 1\n",
    "    temp_NUM = (temp_NUM%10)*10 + (temp_NUM//10 + temp_NUM%10)%10\n",
    "\n",
    "print(O_cycle_length)\n",
    "    \n",
    "\n"
   ]
  }
 ],
 "metadata": {
  "kernelspec": {
   "display_name": "Python 3.10.7 64-bit",
   "language": "python",
   "name": "python3"
  },
  "language_info": {
   "codemirror_mode": {
    "name": "ipython",
    "version": 3
   },
   "file_extension": ".py",
   "mimetype": "text/x-python",
   "name": "python",
   "nbconvert_exporter": "python",
   "pygments_lexer": "ipython3",
   "version": "3.10.7"
  },
  "orig_nbformat": 4,
  "vscode": {
   "interpreter": {
    "hash": "d62492221e6953a5de9b87ae11772d4ebbe7fd120302dcff64a0b1507c366a10"
   }
  }
 },
 "nbformat": 4,
 "nbformat_minor": 2
}
