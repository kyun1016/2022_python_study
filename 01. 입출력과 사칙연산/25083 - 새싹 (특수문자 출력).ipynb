{
 "cells": [
  {
   "cell_type": "code",
   "execution_count": 7,
   "id": "75891566",
   "metadata": {},
   "outputs": [
    {
     "name": "stdout",
     "output_type": "stream",
     "text": [
      "         ,r'\"7\n",
      "r`-_   ,'  ,/\n",
      " \\. \". L_r'\n",
      "   `~\\/\n",
      "      |\n",
      "      |\n"
     ]
    }
   ],
   "source": [
    "print(\"         ,r\\'\\\"7\")\n",
    "print(\"r`-_   ,\\'  ,/\")\n",
    "print(\" \\\\. \\\". L_r'\")\n",
    "print(\"   `~\\\\/\")\n",
    "print(\"      |\")\n",
    "print(\"      |\")"
   ]
  },
  {
   "cell_type": "code",
   "execution_count": null,
   "id": "c13e7625",
   "metadata": {},
   "outputs": [],
   "source": []
  }
 ],
 "metadata": {
  "kernelspec": {
   "display_name": "Python 3.10.7 64-bit",
   "language": "python",
   "name": "python3"
  },
  "language_info": {
   "codemirror_mode": {
    "name": "ipython",
    "version": 3
   },
   "file_extension": ".py",
   "mimetype": "text/x-python",
   "name": "python",
   "nbconvert_exporter": "python",
   "pygments_lexer": "ipython3",
   "version": "3.10.7"
  },
  "vscode": {
   "interpreter": {
    "hash": "d62492221e6953a5de9b87ae11772d4ebbe7fd120302dcff64a0b1507c366a10"
   }
  }
 },
 "nbformat": 4,
 "nbformat_minor": 5
}
