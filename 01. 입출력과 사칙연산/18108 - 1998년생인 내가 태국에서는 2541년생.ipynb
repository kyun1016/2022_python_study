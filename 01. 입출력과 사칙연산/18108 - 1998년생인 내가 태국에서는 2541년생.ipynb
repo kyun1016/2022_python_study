{
 "cells": [
  {
   "cell_type": "code",
   "execution_count": 1,
   "id": "3f7d0769",
   "metadata": {},
   "outputs": [
    {
     "data": {
      "text/plain": [
       "543"
      ]
     },
     "execution_count": 1,
     "metadata": {},
     "output_type": "execute_result"
    }
   ],
   "source": [
    "2541 - 1998"
   ]
  },
  {
   "cell_type": "code",
   "execution_count": 2,
   "id": "7c01e498",
   "metadata": {},
   "outputs": [
    {
     "name": "stdout",
     "output_type": "stream",
     "text": [
      "2541\n",
      "1998\n"
     ]
    }
   ],
   "source": [
    "bool_year = int(input())\n",
    "diff_year = 543\n",
    "print(bool_year - diff_year)"
   ]
  },
  {
   "cell_type": "code",
   "execution_count": null,
   "id": "26c16047",
   "metadata": {},
   "outputs": [],
   "source": []
  }
 ],
 "metadata": {
  "kernelspec": {
   "display_name": "Python 3",
   "language": "python",
   "name": "python3"
  },
  "language_info": {
   "codemirror_mode": {
    "name": "ipython",
    "version": 3
   },
   "file_extension": ".py",
   "mimetype": "text/x-python",
   "name": "python",
   "nbconvert_exporter": "python",
   "pygments_lexer": "ipython3",
   "version": "3.8.8"
  }
 },
 "nbformat": 4,
 "nbformat_minor": 5
}
