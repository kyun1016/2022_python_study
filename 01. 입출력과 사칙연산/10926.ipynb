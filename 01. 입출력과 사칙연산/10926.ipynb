{
 "cells": [
  {
   "cell_type": "code",
   "execution_count": 1,
   "id": "b446a9fd",
   "metadata": {},
   "outputs": [
    {
     "name": "stdout",
     "output_type": "stream",
     "text": [
      "joonas\n",
      "joonas??!\n"
     ]
    }
   ],
   "source": [
    "a = input()\n",
    "\n",
    "print(a + '??!')"
   ]
  },
  {
   "cell_type": "code",
   "execution_count": null,
   "id": "468e709d",
   "metadata": {},
   "outputs": [],
   "source": []
  }
 ],
 "metadata": {
  "kernelspec": {
   "display_name": "Python 3.10.7 64-bit",
   "language": "python",
   "name": "python3"
  },
  "language_info": {
   "codemirror_mode": {
    "name": "ipython",
    "version": 3
   },
   "file_extension": ".py",
   "mimetype": "text/x-python",
   "name": "python",
   "nbconvert_exporter": "python",
   "pygments_lexer": "ipython3",
   "version": "3.10.7"
  },
  "vscode": {
   "interpreter": {
    "hash": "d62492221e6953a5de9b87ae11772d4ebbe7fd120302dcff64a0b1507c366a10"
   }
  }
 },
 "nbformat": 4,
 "nbformat_minor": 5
}
