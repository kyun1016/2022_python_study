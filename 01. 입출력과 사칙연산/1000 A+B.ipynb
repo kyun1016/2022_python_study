{
 "cells": [
  {
   "cell_type": "code",
   "execution_count": 2,
   "id": "399e8766",
   "metadata": {},
   "outputs": [
    {
     "name": "stdout",
     "output_type": "stream",
     "text": [
      "1 2\n",
      "3\n"
     ]
    }
   ],
   "source": [
    "A, B = map(int, input().split())\n",
    "print (A+B)"
   ]
  },
  {
   "cell_type": "code",
   "execution_count": 6,
   "id": "75408588",
   "metadata": {},
   "outputs": [
    {
     "name": "stdout",
     "output_type": "stream",
     "text": [
      "1 2\n",
      "3\n"
     ]
    }
   ],
   "source": [
    "A = list(map(int, input().split()))\n",
    "print (A[0] + A[1])"
   ]
  },
  {
   "cell_type": "code",
   "execution_count": null,
   "id": "d2521249",
   "metadata": {},
   "outputs": [],
   "source": []
  }
 ],
 "metadata": {
  "kernelspec": {
   "display_name": "Python 3.10.7 64-bit",
   "language": "python",
   "name": "python3"
  },
  "language_info": {
   "codemirror_mode": {
    "name": "ipython",
    "version": 3
   },
   "file_extension": ".py",
   "mimetype": "text/x-python",
   "name": "python",
   "nbconvert_exporter": "python",
   "pygments_lexer": "ipython3",
   "version": "3.10.7"
  },
  "vscode": {
   "interpreter": {
    "hash": "d62492221e6953a5de9b87ae11772d4ebbe7fd120302dcff64a0b1507c366a10"
   }
  }
 },
 "nbformat": 4,
 "nbformat_minor": 5
}
